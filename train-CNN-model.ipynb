{
 "cells": [
  {
   "cell_type": "code",
   "execution_count": null,
   "id": "0a80fe1d-4e9d-42ee-9630-b170158b09de",
   "metadata": {
    "is_executing": true
   },
   "outputs": [],
   "source": [
    "import numpy as np\n",
    "import os\n",
    "from tensorflow.keras import models, layers\n",
    "from tensorflow.keras.preprocessing.image import ImageDataGenerator\n",
    "from tensorflow.keras.preprocessing import image\n",
    "from tensorflow.keras.preprocessing.image import img_to_array\n",
    "import tensorflow as tf\n",
    "import matplotlib.pyplot as plt\n",
    "from tensorflow.keras import backend as K"
   ]
  },
  {
   "cell_type": "code",
   "execution_count": 2,
   "id": "920de4b7-5245-41b6-ae2b-74c209dc13b4",
   "metadata": {},
   "outputs": [],
   "source": [
    "INIT_LR = 1e-3\n",
    "BATCH_SIZE = 32\n",
    "EPOCHS = 50\n",
    "IMAGE_SIZE = 256\n",
    "default_image_size = tuple((IMAGE_SIZE, IMAGE_SIZE))\n",
    "image_size = 0\n",
    "data_dir = \"D:\\\\mahmoud\\\\\"\n",
    "CHANNELS=3\n",
    "AUTOTUNE = tf.data.AUTOTUNE"
   ]
  },
  {
   "cell_type": "code",
   "execution_count": 3,
   "id": "45dcea7e-52ef-451b-9eaa-89de0bd343d8",
   "metadata": {},
   "outputs": [],
   "source": [
    "def get_dataset_partitions_tf(ds, train_split=0.8, val_split=0.1, test_split=0.1, shuffle=True, shuffle_size=10000):\n",
    "    assert (train_split + test_split + val_split) == 1\n",
    "    \n",
    "    ds_size = ds.cardinality().numpy()\n",
    "    \n",
    "    if shuffle:\n",
    "        ds = ds.shuffle(shuffle_size, seed=12)\n",
    "    \n",
    "    train_size = int(train_split * ds_size)\n",
    "    val_size = int(val_split * ds_size)\n",
    "    \n",
    "    train_ds = ds.take(train_size)    \n",
    "    val_ds = ds.skip(train_size).take(val_size)\n",
    "    test_ds = ds.skip(train_size).skip(val_size)\n",
    "    \n",
    "    return train_ds, val_ds, test_ds"
   ]
  },
  {
   "cell_type": "code",
   "execution_count": 4,
   "id": "cc9074ed-b80b-47fd-b025-439d13e5f816",
   "metadata": {},
   "outputs": [
    {
     "name": "stdout",
     "output_type": "stream",
     "text": [
      "Found 4020 files belonging to 6 classes.\n"
     ]
    }
   ],
   "source": [
    "dataset = tf.keras.preprocessing.image_dataset_from_directory(\n",
    "  \"D:\\\\mahmoud\\\\dataset 3p 3t\",\n",
    "  seed=123,\n",
    "  image_size=default_image_size,\n",
    "  batch_size=BATCH_SIZE\n",
    ")\n",
    "\n",
    "\n",
    "train_ds, val_ds, test_ds = get_dataset_partitions_tf(dataset)"
   ]
  },
  {
   "cell_type": "code",
   "execution_count": 5,
   "id": "b8378ebd-1d26-4571-84d1-0a8b546e464a",
   "metadata": {},
   "outputs": [
    {
     "name": "stdout",
     "output_type": "stream",
     "text": [
      "6 ['Potato___Early_blight', 'Potato___Late_blight', 'Potato___healthy', 'Tomato___Bacterial_spot', 'Tomato___Early_blight', 'Tomato___healthy']\n"
     ]
    }
   ],
   "source": [
    "class_names = dataset.class_names\n",
    "n_classes = len(class_names)\n",
    "print(n_classes, class_names)"
   ]
  },
  {
   "cell_type": "code",
   "execution_count": 6,
   "id": "125cc3e9-5407-42d3-aa4e-37a6f0ed1840",
   "metadata": {},
   "outputs": [
    {
     "name": "stdout",
     "output_type": "stream",
     "text": [
      "(32, 256, 256, 3)\n",
      "(32,)\n"
     ]
    }
   ],
   "source": [
    "for image_batch, labels_batch in train_ds:\n",
    "  print(image_batch.shape)\n",
    "  print(labels_batch.shape)\n",
    "  break"
   ]
  },
  {
   "cell_type": "code",
   "execution_count": 7,
   "id": "cb7e1b50-5b4b-458d-a603-c49de882fa6b",
   "metadata": {},
   "outputs": [],
   "source": [
    "train_ds = train_ds.cache().shuffle(1000).prefetch(buffer_size=AUTOTUNE)\n",
    "val_ds = val_ds.cache().shuffle(1000).prefetch(buffer_size=AUTOTUNE)\n",
    "test_ds = test_ds.cache().shuffle(1000).prefetch(buffer_size=AUTOTUNE)"
   ]
  },
  {
   "cell_type": "code",
   "execution_count": 8,
   "id": "cfba4a09-b633-4b5c-9ba2-1e86626e357b",
   "metadata": {},
   "outputs": [],
   "source": [
    "resize_and_rescale = tf.keras.Sequential([\n",
    "  layers.experimental.preprocessing.Resizing(IMAGE_SIZE, IMAGE_SIZE),\n",
    "  layers.experimental.preprocessing.Rescaling(1./255),\n",
    "])"
   ]
  },
  {
   "cell_type": "code",
   "execution_count": 9,
   "id": "36fc77a3-5d5f-4126-8246-23adae7f7610",
   "metadata": {},
   "outputs": [],
   "source": [
    "data_augmentation = tf.keras.Sequential([\n",
    "  layers.experimental.preprocessing.RandomFlip(\"horizontal_and_vertical\"),\n",
    "  layers.experimental.preprocessing.RandomRotation(0.2),\n",
    "])"
   ]
  },
  {
   "cell_type": "code",
   "execution_count": 10,
   "id": "76315ddd-3873-4eab-8ee5-c2cc1e888f43",
   "metadata": {},
   "outputs": [],
   "source": [
    "input_shape = (IMAGE_SIZE, IMAGE_SIZE, CHANNELS)\n",
    "batch_input_shape = (BATCH_SIZE, IMAGE_SIZE, IMAGE_SIZE, CHANNELS)\n",
    "chanDim = -1\n",
    "if K.image_data_format() == \"channels_first\":\n",
    "    input_shape = (CHANNELS, IMAGE_SIZE, IMAGE_SIZE)\n",
    "    batch_input_shape = (BATCH_SIZE, CHANNELS, IMAGE_SIZE, IMAGE_SIZE)\n",
    "    chanDim = 1"
   ]
  },
  {
   "cell_type": "code",
   "execution_count": 11,
   "id": "43678af3-9ef8-43b2-aeb7-db996dc53410",
   "metadata": {},
   "outputs": [
    {
     "name": "stdout",
     "output_type": "stream",
     "text": [
      "WARNING:tensorflow:Using a while_loop for converting RngReadAndSkip cause there is no registered converter for this op.\n",
      "WARNING:tensorflow:Using a while_loop for converting Bitcast cause there is no registered converter for this op.\n",
      "WARNING:tensorflow:Using a while_loop for converting Bitcast cause there is no registered converter for this op.\n",
      "WARNING:tensorflow:Using a while_loop for converting StatelessRandomUniformV2 cause there is no registered converter for this op.\n",
      "WARNING:tensorflow:Using a while_loop for converting ImageProjectiveTransformV3 cause there is no registered converter for this op.\n",
      "WARNING:tensorflow:Using a while_loop for converting RngReadAndSkip cause there is no registered converter for this op.\n",
      "WARNING:tensorflow:Using a while_loop for converting Bitcast cause there is no registered converter for this op.\n",
      "WARNING:tensorflow:Using a while_loop for converting Bitcast cause there is no registered converter for this op.\n",
      "WARNING:tensorflow:Using a while_loop for converting StatelessRandomUniformV2 cause there is no registered converter for this op.\n",
      "WARNING:tensorflow:Using a while_loop for converting ImageProjectiveTransformV3 cause there is no registered converter for this op.\n"
     ]
    }
   ],
   "source": [
    "model = models.Sequential([\n",
    "    resize_and_rescale,\n",
    "    data_augmentation,\n",
    "    layers.Conv2D(32, kernel_size = (3,3), activation='relu', input_shape=input_shape),\n",
    "    layers.MaxPooling2D((2, 2)),\n",
    "    layers.Conv2D(64,  kernel_size = (3,3), activation='relu'),\n",
    "    layers.MaxPooling2D((2, 2)),\n",
    "    layers.Conv2D(64,  kernel_size = (3,3), activation='relu'),\n",
    "    layers.MaxPooling2D((2, 2)),\n",
    "    layers.Conv2D(64, (3, 3), activation='relu'),\n",
    "    layers.MaxPooling2D((2, 2)),\n",
    "    layers.Conv2D(64, (3, 3), activation='relu'),\n",
    "    layers.MaxPooling2D((2, 2)),\n",
    "    layers.Conv2D(64, (3, 3), activation='relu'),\n",
    "    layers.MaxPooling2D((2, 2)),\n",
    "    layers.Flatten(),\n",
    "    layers.Dense(64, activation='relu'),\n",
    "    layers.Dense(n_classes, activation='softmax'),\n",
    "])\n",
    "\n",
    "model.build(input_shape=batch_input_shape)"
   ]
  },
  {
   "cell_type": "code",
   "execution_count": 12,
   "id": "d81d65f4-dfb2-4eb1-bb8e-83533beeb82b",
   "metadata": {},
   "outputs": [
    {
     "name": "stdout",
     "output_type": "stream",
     "text": [
      "Model: \"sequential_2\"\n",
      "_________________________________________________________________\n",
      " Layer (type)                Output Shape              Param #   \n",
      "=================================================================\n",
      " sequential (Sequential)     (32, 256, 256, 3)         0         \n",
      "                                                                 \n",
      " sequential_1 (Sequential)   (None, 256, 256, 3)       0         \n",
      "                                                                 \n",
      " conv2d (Conv2D)             (None, 254, 254, 32)      896       \n",
      "                                                                 \n",
      " max_pooling2d (MaxPooling2D  (None, 127, 127, 32)     0         \n",
      " )                                                               \n",
      "                                                                 \n",
      " conv2d_1 (Conv2D)           (None, 125, 125, 64)      18496     \n",
      "                                                                 \n",
      " max_pooling2d_1 (MaxPooling  (None, 62, 62, 64)       0         \n",
      " 2D)                                                             \n",
      "                                                                 \n",
      " conv2d_2 (Conv2D)           (None, 60, 60, 64)        36928     \n",
      "                                                                 \n",
      " max_pooling2d_2 (MaxPooling  (None, 30, 30, 64)       0         \n",
      " 2D)                                                             \n",
      "                                                                 \n",
      " conv2d_3 (Conv2D)           (None, 28, 28, 64)        36928     \n",
      "                                                                 \n",
      " max_pooling2d_3 (MaxPooling  (None, 14, 14, 64)       0         \n",
      " 2D)                                                             \n",
      "                                                                 \n",
      " conv2d_4 (Conv2D)           (None, 12, 12, 64)        36928     \n",
      "                                                                 \n",
      " max_pooling2d_4 (MaxPooling  (None, 6, 6, 64)         0         \n",
      " 2D)                                                             \n",
      "                                                                 \n",
      " conv2d_5 (Conv2D)           (None, 4, 4, 64)          36928     \n",
      "                                                                 \n",
      " max_pooling2d_5 (MaxPooling  (None, 2, 2, 64)         0         \n",
      " 2D)                                                             \n",
      "                                                                 \n",
      " flatten (Flatten)           (None, 256)               0         \n",
      "                                                                 \n",
      " dense (Dense)               (None, 64)                16448     \n",
      "                                                                 \n",
      " dense_1 (Dense)             (None, 6)                 390       \n",
      "                                                                 \n",
      "=================================================================\n",
      "Total params: 183,942\n",
      "Trainable params: 183,942\n",
      "Non-trainable params: 0\n",
      "_________________________________________________________________\n"
     ]
    }
   ],
   "source": [
    "model.summary()"
   ]
  },
  {
   "cell_type": "code",
   "execution_count": 13,
   "id": "86847080-4be2-4d62-aaf5-fae29fbe1e03",
   "metadata": {},
   "outputs": [],
   "source": [
    "model.compile(\n",
    "    optimizer='adam',\n",
    "    loss=tf.keras.losses.SparseCategoricalCrossentropy(from_logits=False),\n",
    "    metrics=['accuracy']\n",
    ")"
   ]
  },
  {
   "cell_type": "code",
   "execution_count": 14,
   "id": "ab97738c-d1fe-48ac-b6a3-50c96c284818",
   "metadata": {},
   "outputs": [
    {
     "name": "stdout",
     "output_type": "stream",
     "text": [
      "Epoch 1/50\n",
      "WARNING:tensorflow:Using a while_loop for converting RngReadAndSkip cause there is no registered converter for this op.\n",
      "WARNING:tensorflow:Using a while_loop for converting Bitcast cause there is no registered converter for this op.\n",
      "WARNING:tensorflow:Using a while_loop for converting Bitcast cause there is no registered converter for this op.\n",
      "WARNING:tensorflow:Using a while_loop for converting StatelessRandomUniformV2 cause there is no registered converter for this op.\n",
      "WARNING:tensorflow:Using a while_loop for converting ImageProjectiveTransformV3 cause there is no registered converter for this op.\n",
      "WARNING:tensorflow:Using a while_loop for converting RngReadAndSkip cause there is no registered converter for this op.\n",
      "WARNING:tensorflow:Using a while_loop for converting Bitcast cause there is no registered converter for this op.\n",
      "WARNING:tensorflow:Using a while_loop for converting Bitcast cause there is no registered converter for this op.\n",
      "WARNING:tensorflow:Using a while_loop for converting StatelessRandomUniformV2 cause there is no registered converter for this op.\n",
      "WARNING:tensorflow:Using a while_loop for converting ImageProjectiveTransformV3 cause there is no registered converter for this op.\n",
      "WARNING:tensorflow:Using a while_loop for converting RngReadAndSkip cause there is no registered converter for this op.\n",
      "WARNING:tensorflow:Using a while_loop for converting Bitcast cause there is no registered converter for this op.\n",
      "WARNING:tensorflow:Using a while_loop for converting Bitcast cause there is no registered converter for this op.\n",
      "WARNING:tensorflow:Using a while_loop for converting StatelessRandomUniformV2 cause there is no registered converter for this op.\n",
      "WARNING:tensorflow:Using a while_loop for converting ImageProjectiveTransformV3 cause there is no registered converter for this op.\n",
      "WARNING:tensorflow:Using a while_loop for converting RngReadAndSkip cause there is no registered converter for this op.\n",
      "WARNING:tensorflow:Using a while_loop for converting Bitcast cause there is no registered converter for this op.\n",
      "WARNING:tensorflow:Using a while_loop for converting Bitcast cause there is no registered converter for this op.\n",
      "WARNING:tensorflow:Using a while_loop for converting StatelessRandomUniformV2 cause there is no registered converter for this op.\n",
      "WARNING:tensorflow:Using a while_loop for converting ImageProjectiveTransformV3 cause there is no registered converter for this op.\n",
      "100/100 [==============================] - 69s 641ms/step - loss: 0.8859 - accuracy: 0.6006 - val_loss: 0.5838 - val_accuracy: 0.7474\n",
      "Epoch 2/50\n",
      "100/100 [==============================] - 62s 618ms/step - loss: 0.4820 - accuracy: 0.8034 - val_loss: 0.4667 - val_accuracy: 0.8021\n",
      "Epoch 3/50\n",
      "100/100 [==============================] - 61s 612ms/step - loss: 0.3482 - accuracy: 0.8669 - val_loss: 0.3818 - val_accuracy: 0.8646\n",
      "Epoch 4/50\n",
      "100/100 [==============================] - 61s 610ms/step - loss: 0.2855 - accuracy: 0.8897 - val_loss: 0.6890 - val_accuracy: 0.8073\n",
      "Epoch 5/50\n",
      "100/100 [==============================] - 61s 611ms/step - loss: 0.2517 - accuracy: 0.9059 - val_loss: 0.3201 - val_accuracy: 0.8750\n",
      "Epoch 6/50\n",
      "100/100 [==============================] - 61s 611ms/step - loss: 0.2268 - accuracy: 0.9116 - val_loss: 0.3323 - val_accuracy: 0.8776\n",
      "Epoch 7/50\n",
      "100/100 [==============================] - 63s 626ms/step - loss: 0.1997 - accuracy: 0.9259 - val_loss: 0.2970 - val_accuracy: 0.8984\n",
      "Epoch 8/50\n",
      "100/100 [==============================] - 60s 596ms/step - loss: 0.1943 - accuracy: 0.9262 - val_loss: 0.2853 - val_accuracy: 0.8880\n",
      "Epoch 9/50\n",
      "100/100 [==============================] - 62s 623ms/step - loss: 0.1532 - accuracy: 0.9463 - val_loss: 0.1853 - val_accuracy: 0.9271\n",
      "Epoch 10/50\n",
      "100/100 [==============================] - 62s 616ms/step - loss: 0.1698 - accuracy: 0.9419 - val_loss: 0.1819 - val_accuracy: 0.9375\n",
      "Epoch 11/50\n",
      "100/100 [==============================] - 61s 612ms/step - loss: 0.1473 - accuracy: 0.9506 - val_loss: 0.1813 - val_accuracy: 0.9141\n",
      "Epoch 12/50\n",
      "100/100 [==============================] - 61s 609ms/step - loss: 0.1298 - accuracy: 0.9519 - val_loss: 0.1946 - val_accuracy: 0.9193\n",
      "Epoch 13/50\n",
      "100/100 [==============================] - 61s 607ms/step - loss: 0.1606 - accuracy: 0.9478 - val_loss: 0.1735 - val_accuracy: 0.9401\n",
      "Epoch 14/50\n",
      "100/100 [==============================] - 57s 571ms/step - loss: 0.1043 - accuracy: 0.9625 - val_loss: 0.3374 - val_accuracy: 0.8646\n",
      "Epoch 15/50\n",
      "100/100 [==============================] - 58s 578ms/step - loss: 0.0923 - accuracy: 0.9656 - val_loss: 0.1419 - val_accuracy: 0.9557\n",
      "Epoch 16/50\n",
      "100/100 [==============================] - 58s 579ms/step - loss: 0.1007 - accuracy: 0.9644 - val_loss: 0.5750 - val_accuracy: 0.8047\n",
      "Epoch 17/50\n",
      "100/100 [==============================] - 57s 571ms/step - loss: 0.1274 - accuracy: 0.9525 - val_loss: 0.2768 - val_accuracy: 0.9036\n",
      "Epoch 18/50\n",
      "100/100 [==============================] - 57s 572ms/step - loss: 0.0973 - accuracy: 0.9706 - val_loss: 0.1117 - val_accuracy: 0.9609\n",
      "Epoch 19/50\n",
      "100/100 [==============================] - 57s 570ms/step - loss: 0.0822 - accuracy: 0.9706 - val_loss: 0.5531 - val_accuracy: 0.8255\n",
      "Epoch 20/50\n",
      "100/100 [==============================] - 57s 572ms/step - loss: 0.0854 - accuracy: 0.9716 - val_loss: 0.2074 - val_accuracy: 0.9219\n",
      "Epoch 21/50\n",
      "100/100 [==============================] - 57s 567ms/step - loss: 0.0658 - accuracy: 0.9775 - val_loss: 0.1405 - val_accuracy: 0.9427\n",
      "Epoch 22/50\n",
      "100/100 [==============================] - 58s 582ms/step - loss: 0.1013 - accuracy: 0.9622 - val_loss: 0.0930 - val_accuracy: 0.9583\n",
      "Epoch 23/50\n",
      "100/100 [==============================] - 57s 574ms/step - loss: 0.0503 - accuracy: 0.9850 - val_loss: 0.3891 - val_accuracy: 0.8646\n",
      "Epoch 24/50\n",
      "100/100 [==============================] - 59s 585ms/step - loss: 0.0535 - accuracy: 0.9812 - val_loss: 0.1479 - val_accuracy: 0.9505\n",
      "Epoch 25/50\n",
      "100/100 [==============================] - 57s 568ms/step - loss: 0.0763 - accuracy: 0.9731 - val_loss: 0.0882 - val_accuracy: 0.9609\n",
      "Epoch 26/50\n",
      "100/100 [==============================] - 58s 581ms/step - loss: 0.0640 - accuracy: 0.9787 - val_loss: 0.0593 - val_accuracy: 0.9740\n",
      "Epoch 27/50\n",
      "100/100 [==============================] - 58s 577ms/step - loss: 0.0410 - accuracy: 0.9875 - val_loss: 0.5498 - val_accuracy: 0.8333\n",
      "Epoch 28/50\n",
      "100/100 [==============================] - 58s 578ms/step - loss: 0.0916 - accuracy: 0.9681 - val_loss: 0.0647 - val_accuracy: 0.9740\n",
      "Epoch 29/50\n",
      "100/100 [==============================] - 62s 621ms/step - loss: 0.0338 - accuracy: 0.9878 - val_loss: 0.0640 - val_accuracy: 0.9792\n",
      "Epoch 30/50\n",
      "100/100 [==============================] - 60s 602ms/step - loss: 0.0408 - accuracy: 0.9878 - val_loss: 0.2133 - val_accuracy: 0.9453\n",
      "Epoch 31/50\n",
      "100/100 [==============================] - 60s 600ms/step - loss: 0.0360 - accuracy: 0.9903 - val_loss: 0.2286 - val_accuracy: 0.9219\n",
      "Epoch 32/50\n",
      "100/100 [==============================] - 60s 605ms/step - loss: 0.0357 - accuracy: 0.9884 - val_loss: 0.0920 - val_accuracy: 0.9661\n",
      "Epoch 33/50\n",
      "100/100 [==============================] - 60s 597ms/step - loss: 0.0830 - accuracy: 0.9731 - val_loss: 0.0586 - val_accuracy: 0.9818\n",
      "Epoch 34/50\n",
      "100/100 [==============================] - 61s 613ms/step - loss: 0.0336 - accuracy: 0.9881 - val_loss: 0.1609 - val_accuracy: 0.9375\n",
      "Epoch 35/50\n",
      "100/100 [==============================] - 60s 597ms/step - loss: 0.0357 - accuracy: 0.9887 - val_loss: 0.0727 - val_accuracy: 0.9740\n",
      "Epoch 36/50\n",
      "100/100 [==============================] - 61s 608ms/step - loss: 0.0395 - accuracy: 0.9869 - val_loss: 0.1692 - val_accuracy: 0.9245\n",
      "Epoch 37/50\n",
      "100/100 [==============================] - 60s 598ms/step - loss: 0.0234 - accuracy: 0.9931 - val_loss: 0.0946 - val_accuracy: 0.9609\n",
      "Epoch 38/50\n",
      "100/100 [==============================] - 60s 602ms/step - loss: 0.0331 - accuracy: 0.9891 - val_loss: 0.0421 - val_accuracy: 0.9896\n",
      "Epoch 39/50\n",
      "100/100 [==============================] - 61s 608ms/step - loss: 0.0390 - accuracy: 0.9878 - val_loss: 0.3943 - val_accuracy: 0.8724\n",
      "Epoch 40/50\n",
      "100/100 [==============================] - 60s 601ms/step - loss: 0.0462 - accuracy: 0.9834 - val_loss: 0.0565 - val_accuracy: 0.9766\n",
      "Epoch 41/50\n",
      "100/100 [==============================] - 60s 603ms/step - loss: 0.0461 - accuracy: 0.9850 - val_loss: 0.0806 - val_accuracy: 0.9740\n",
      "Epoch 42/50\n",
      "100/100 [==============================] - 57s 573ms/step - loss: 0.0527 - accuracy: 0.9816 - val_loss: 0.0494 - val_accuracy: 0.9792\n",
      "Epoch 43/50\n",
      "100/100 [==============================] - 62s 618ms/step - loss: 0.0146 - accuracy: 0.9956 - val_loss: 0.0755 - val_accuracy: 0.9714\n",
      "Epoch 44/50\n",
      "100/100 [==============================] - 61s 615ms/step - loss: 0.0641 - accuracy: 0.9769 - val_loss: 0.0753 - val_accuracy: 0.9661\n",
      "Epoch 45/50\n",
      "100/100 [==============================] - 60s 603ms/step - loss: 0.0367 - accuracy: 0.9878 - val_loss: 0.0368 - val_accuracy: 0.9870\n",
      "Epoch 46/50\n",
      "100/100 [==============================] - 61s 611ms/step - loss: 0.0293 - accuracy: 0.9897 - val_loss: 0.0347 - val_accuracy: 0.9870\n",
      "Epoch 47/50\n",
      "100/100 [==============================] - 61s 614ms/step - loss: 0.0283 - accuracy: 0.9878 - val_loss: 0.0283 - val_accuracy: 0.9896\n",
      "Epoch 48/50\n",
      "100/100 [==============================] - 61s 607ms/step - loss: 0.0254 - accuracy: 0.9922 - val_loss: 0.1160 - val_accuracy: 0.9531\n",
      "Epoch 49/50\n",
      "100/100 [==============================] - 61s 610ms/step - loss: 0.0394 - accuracy: 0.9881 - val_loss: 0.0462 - val_accuracy: 0.9818\n",
      "Epoch 50/50\n",
      "100/100 [==============================] - 61s 612ms/step - loss: 0.0173 - accuracy: 0.9944 - val_loss: 0.1483 - val_accuracy: 0.9557\n"
     ]
    }
   ],
   "source": [
    "history = model.fit(\n",
    "    train_ds,\n",
    "    batch_size=BATCH_SIZE,\n",
    "    validation_data=val_ds,\n",
    "    verbose=1,\n",
    "    epochs=EPOCHS,\n",
    ")"
   ]
  },
  {
   "cell_type": "code",
   "execution_count": 15,
   "id": "550c04cd-0c7e-4bc2-9b31-3337a0d34848",
   "metadata": {},
   "outputs": [
    {
     "name": "stdout",
     "output_type": "stream",
     "text": [
      "[INFO] Calculating model accuracy\n",
      "14/14 [==============================] - 19s 115ms/step - loss: 0.1578 - accuracy: 0.9587\n",
      "Test Accuracy: 95.87%\n"
     ]
    }
   ],
   "source": [
    "print(\"[INFO] Calculating model accuracy\")\n",
    "scores = model.evaluate(test_ds)\n",
    "print(f\"Test Accuracy: {round(scores[1],4)*100}%\")"
   ]
  },
  {
   "cell_type": "code",
   "execution_count": 16,
   "id": "0cd0116f-b11e-4c78-b425-1c61a8363058",
   "metadata": {},
   "outputs": [],
   "source": [
    "model.save('D:\\mahmoud\\models/3t 3p.h5')"
   ]
  },
  {
   "cell_type": "code",
   "execution_count": 17,
   "id": "7ef9ed0d-0a80-4359-9f2a-e84f79f29423",
   "metadata": {},
   "outputs": [],
   "source": [
    "def predict(model, img):\n",
    "    img_array = tf.keras.preprocessing.image.img_to_array(images[i].numpy())\n",
    "    img_array = tf.expand_dims(img_array, 0) # Create a batch\n",
    "\n",
    "    predictions = model.predict(img_array)\n",
    "\n",
    "    predicted_class = class_names[np.argmax(predictions[0])]\n",
    "    confidence = round(100 * (np.max(predictions[0])), 2)\n",
    "    return predicted_class, confidence"
   ]
  },
  {
   "cell_type": "code",
   "execution_count": null,
   "id": "ffe1f0e4-c047-4f6a-9766-78ffb5b911aa",
   "metadata": {},
   "outputs": [
    {
     "name": "stdout",
     "output_type": "stream",
     "text": [
      "1/1 [==============================] - 0s 246ms/step\n",
      "1/1 [==============================] - 0s 30ms/step\n",
      "1/1 [==============================] - 0s 27ms/step\n",
      "1/1 [==============================] - 0s 27ms/step\n",
      "1/1 [==============================] - 0s 28ms/step\n",
      "1/1 [==============================] - 0s 25ms/step\n",
      "1/1 [==============================] - 0s 29ms/step\n",
      "1/1 [==============================] - 0s 25ms/step\n",
      "1/1 [==============================] - 0s 26ms/step\n"
     ]
    }
   ],
   "source": [
    "plt.figure(figsize=(15, 15))\n",
    "for images, labels in test_ds.take(1):\n",
    "    for i in range(9):\n",
    "        ax = plt.subplot(3, 3, i + 1)\n",
    "        plt.imshow(images[i].numpy().astype(\"uint8\"))\n",
    "        predicted_class, confidence = predict(model, images[i].numpy())\n",
    "        \n",
    "        actual_class = class_names[labels[i]] \n",
    "        plt.title(f\"Actual: {actual_class},\\n Predicted: {predicted_class}.\\n Confidence: {confidence}%\")\n",
    "        plt.axis(\"off\")"
   ]
  },
  {
   "cell_type": "code",
   "execution_count": null,
   "id": "d9d8c1c3-8749-4868-8597-fe27ec2b0879",
   "metadata": {},
   "outputs": [],
   "source": []
  }
 ],
 "metadata": {
  "kernelspec": {
   "display_name": "Python 3 (ipykernel)",
   "language": "python",
   "name": "python3"
  },
  "language_info": {
   "codemirror_mode": {
    "name": "ipython",
    "version": 3
   },
   "file_extension": ".py",
   "mimetype": "text/x-python",
   "name": "python",
   "nbconvert_exporter": "python",
   "pygments_lexer": "ipython3",
   "version": "3.10.13"
  }
 },
 "nbformat": 4,
 "nbformat_minor": 5
}
